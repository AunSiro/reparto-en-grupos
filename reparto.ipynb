{
 "cells": [
  {
   "cell_type": "markdown",
   "id": "d2427cd7",
   "metadata": {},
   "source": [
    "### Instrucciones:\n",
    "\n",
    "Esto es un Notebook de Jupyter, un documento interactivo que contiene texto y código. \n",
    "Para ejecutar todo, desplegar el menú \"run\" y ahí seleccionar \"run all cells\".\n",
    "Después, usar los controles abajo del todo para buscar la combinación de grupos.\n",
    "\n",
    "OJO: Las distribuciones de grupos probablemente no son únicas! Ejecutar la misma combinación varias veces puede producir resultados distintos!\n",
    "\n",
    "OJO 2: He puesto un límite de 1000 intentos para producir una combinación viable, pero si no se encuentra, eso no implica que no exista.\n",
    "\n",
    "OJO 3: Este documento no se guarda. Cada vez que se abra aparecerá de nuevo en su estado original. Eso significa también que se puede jugar con el sin peligro de que se rompa, porque basta con refrescar la página para que todo vuelva a su estado original.\n",
    "\n",
    "Para cambiar los tipos de grupos:\n",
    "Editar la lista \"sizes\" justo antes de los controles, y a continuación seleccionar \"run\" -> \"run all cells\""
   ]
  },
  {
   "cell_type": "code",
   "execution_count": null,
   "id": "44d3e2f6",
   "metadata": {},
   "outputs": [],
   "source": [
    "import numpy as np\n",
    "import ipywidgets as widgets\n",
    "from ipywidgets import interact, fixed"
   ]
  },
  {
   "cell_type": "code",
   "execution_count": null,
   "id": "d69ffff4",
   "metadata": {},
   "outputs": [],
   "source": [
    "def start(personas, sizes, grupos, iterlim = 1000):\n",
    "    if personas < grupos*sizes[0]:\n",
    "        print('No hay suficientes personas para formar grupos con esas condiciones')\n",
    "        return None\n",
    "    \n",
    "    if personas > grupos*sizes[-1]:\n",
    "        print('Hay demasiadas personas para formar grupos con esas condiciones')\n",
    "        return None\n",
    "    \n",
    "    mean_size = personas/grupos\n",
    "    index = np.searchsorted(sizes, mean_size)\n",
    "\n",
    "    c1 = mean_size-sizes[index-1]\n",
    "    c2 = sizes[index]-mean_size\n",
    "\n",
    "    p = c1/(c1+c2)\n",
    "\n",
    "    n_sup = int(p*grupos)\n",
    "    n_inf = grupos-n_sup\n",
    "\n",
    "    total = n_inf*sizes[index-1] + n_sup*sizes[index]\n",
    "    #print(f'{n_inf} grupos de {sizes[index-1]} pax y {n_sup} grupos de {sizes[index]} pax son {total} personas')\n",
    "    gr = np.zeros(grupos, dtype = 'int')\n",
    "    gr[:] = sizes[index]\n",
    "    gr[:n_inf] = sizes[index-1]\n",
    "    if total == personas:\n",
    "        return gr\n",
    "    gr_indices = np.zeros(grupos, dtype = 'int')\n",
    "    gr_indices[:] = index\n",
    "    gr_indices[:n_inf] = index-1\n",
    "    for jj in range(iterlim):\n",
    "        if total > personas:\n",
    "            ind_rand = np.random.randint(grupos)\n",
    "            if gr_indices[ind_rand]!= 0:\n",
    "                gr_indices[ind_rand]-= 1\n",
    "                gr[ind_rand] = sizes[gr_indices[ind_rand]]\n",
    "                total = np.sum(gr)\n",
    "                if total == personas:\n",
    "                    return np.sort(gr)\n",
    "        else:\n",
    "            ind_rand = np.random.randint(grupos)\n",
    "            if gr_indices[ind_rand]!= len(sizes)-1:\n",
    "                gr_indices[ind_rand]+= 1\n",
    "                gr[ind_rand] = sizes[gr_indices[ind_rand]]\n",
    "                total = np.sum(gr)\n",
    "                if total == personas:\n",
    "                    return np.sort(gr)\n",
    "    print('No se ha encontrado ninguna combinación.')\n",
    "    return None"
   ]
  },
  {
   "cell_type": "code",
   "execution_count": null,
   "id": "473848a7",
   "metadata": {},
   "outputs": [],
   "source": [
    "p_w = widgets.BoundedIntText(\n",
    "    value=100,\n",
    "    min=0,\n",
    "    max=1000,\n",
    "    step=1,\n",
    "    description='Personas:',\n",
    "    disabled=False\n",
    ")\n",
    "g_w = widgets.BoundedIntText(\n",
    "    value=8,\n",
    "    min=0,\n",
    "    max=50,\n",
    "    step=1,\n",
    "    description='Grupos:',\n",
    "    disabled=False\n",
    ")"
   ]
  },
  {
   "cell_type": "code",
   "execution_count": null,
   "id": "4f11c782",
   "metadata": {},
   "outputs": [],
   "source": [
    "sizes = np.array([12, 13, 15, 16])"
   ]
  },
  {
   "cell_type": "code",
   "execution_count": null,
   "id": "c56d3252",
   "metadata": {},
   "outputs": [],
   "source": [
    "_ = interact(start, personas=p_w, grupos = g_w, sizes = fixed(sizes), iterlim = fixed(1000))\n",
    "\n"
   ]
  },
  {
   "cell_type": "code",
   "execution_count": null,
   "id": "116fabdb",
   "metadata": {},
   "outputs": [],
   "source": []
  }
 ],
 "metadata": {
  "kernelspec": {
   "display_name": "Python 3",
   "language": "python",
   "name": "python3"
  },
  "language_info": {
   "codemirror_mode": {
    "name": "ipython",
    "version": 3
   },
   "file_extension": ".py",
   "mimetype": "text/x-python",
   "name": "python",
   "nbconvert_exporter": "python",
   "pygments_lexer": "ipython3",
   "version": "3.8.8"
  }
 },
 "nbformat": 4,
 "nbformat_minor": 5
}
